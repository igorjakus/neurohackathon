{
 "cells": [
  {
   "cell_type": "code",
   "execution_count": 7,
   "metadata": {},
   "outputs": [],
   "source": [
    "import numpy as np\n",
    "from src.sender import send_email_risk,send_email_seizure\n",
    "from src.model import Model\n",
    "from src.take import takedata\n",
    "\n"
   ]
  },
  {
   "cell_type": "code",
   "execution_count": 8,
   "metadata": {},
   "outputs": [],
   "source": [
    "data_stream =  takedata(\"data/\")"
   ]
  },
  {
   "cell_type": "code",
   "execution_count": 9,
   "metadata": {},
   "outputs": [],
   "source": [
    "model = Model(\"trained/\")"
   ]
  },
  {
   "cell_type": "code",
   "execution_count": 10,
   "metadata": {},
   "outputs": [
    {
     "name": "stdout",
     "output_type": "stream",
     "text": [
      "Seizure risk detected\n",
      "Seizure detected\n",
      "Seizure risk detected\n",
      "Seizure risk detected\n"
     ]
    }
   ],
   "source": [
    "for data in data_stream:\n",
    "\n",
    "    prediction = model.predict(data)\n",
    "\n",
    "    if prediction == 1:\n",
    "        print(\"Seizure risk detected\")\n",
    "        send_email_risk(data)\n",
    "    elif prediction == 2:\n",
    "        print(\"Seizure detected\")\n",
    "        send_email_seizure(data)\n",
    "    \n",
    "    # time.sleep(5)"
   ]
  }
 ],
 "metadata": {
  "kernelspec": {
   "display_name": "venv",
   "language": "python",
   "name": "python3"
  },
  "language_info": {
   "codemirror_mode": {
    "name": "ipython",
    "version": 3
   },
   "file_extension": ".py",
   "mimetype": "text/x-python",
   "name": "python",
   "nbconvert_exporter": "python",
   "pygments_lexer": "ipython3",
   "version": "3.10.12"
  }
 },
 "nbformat": 4,
 "nbformat_minor": 2
}
