{
 "cells": [
  {
   "cell_type": "code",
   "execution_count": 1,
   "metadata": {},
   "outputs": [],
   "source": [
    "from src.sender import send_email_risk,send_email_seizure\n",
    "from src.model import Model\n",
    "from src.take import takedata"
   ]
  },
  {
   "cell_type": "code",
   "execution_count": 2,
   "metadata": {},
   "outputs": [],
   "source": [
    "data_stream =  takedata(\"data/\")"
   ]
  },
  {
   "cell_type": "code",
   "execution_count": 3,
   "metadata": {},
   "outputs": [],
   "source": [
    "model = Model(\"\")"
   ]
  },
  {
   "cell_type": "code",
   "execution_count": 4,
   "metadata": {},
   "outputs": [
    {
     "name": "stdout",
     "output_type": "stream",
     "text": [
      "Seizure detected\n",
      "Seizure risk detected\n",
      "Seizure risk detected\n",
      "Email of type 'risk' not sent due to cooldown.\n",
      "Seizure risk detected\n",
      "Email of type 'risk' not sent due to cooldown.\n"
     ]
    }
   ],
   "source": [
    "for data in data_stream:\n",
    "    prediction = model.predict(data)\n",
    "    \n",
    "    if prediction == 1:\n",
    "        print(\"Seizure risk detected\")\n",
    "        send_email_risk(data)\n",
    "    elif prediction == 2:\n",
    "        print(\"Seizure detected\")\n",
    "        send_email_seizure(data)\n"
   ]
  },
  {
   "cell_type": "code",
   "execution_count": null,
   "metadata": {},
   "outputs": [],
   "source": []
  }
 ],
 "metadata": {
  "kernelspec": {
   "display_name": "venv",
   "language": "python",
   "name": "python3"
  },
  "language_info": {
   "codemirror_mode": {
    "name": "ipython",
    "version": 3
   },
   "file_extension": ".py",
   "mimetype": "text/x-python",
   "name": "python",
   "nbconvert_exporter": "python",
   "pygments_lexer": "ipython3",
   "version": "3.10.12"
  }
 },
 "nbformat": 4,
 "nbformat_minor": 2
}
