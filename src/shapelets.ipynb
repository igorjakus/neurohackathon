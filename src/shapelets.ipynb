{
 "cells": [
  {
   "cell_type": "code",
   "execution_count": 10,
   "metadata": {},
   "outputs": [
    {
     "data": {
      "text/plain": [
       "\"\\nnow it's only a skeleton of a classifier\\nTODO: \\n- test different numbers and different lengths of shapelets\\n- use better distance metric than euclidean, maybe dtw\\n- choosing shapelets which are not full 178-dimensional samples, but their subsequences\\n- choose shapelets not randomly\\n- ...\\n\\n- (I couldn't use a library implementation of the Shapelets either from tslearn or sktime. It seems \\n   that you need to have some old versions of these extensions to use them.)\\n\""
      ]
     },
     "execution_count": 10,
     "metadata": {},
     "output_type": "execute_result"
    }
   ],
   "source": [
    "\"\"\"\n",
    "now it's only a skeleton of a classifier\n",
    "TODO: \n",
    "- test different numbers and different lengths of shapelets\n",
    "- use better distance metric than euclidean, maybe dtw\n",
    "- choosing shapelets which are not full 178-dimensional samples, but their subsequences\n",
    "- choose shapelets not randomly\n",
    "- ...\n",
    "\n",
    "- (I couldn't use a library implementation of the Shapelets either from tslearn or sktime. It seems \n",
    "   that you need to have some old versions of these extensions to use them.)\n",
    "\"\"\""
   ]
  },
  {
   "cell_type": "code",
   "execution_count": 11,
   "metadata": {},
   "outputs": [],
   "source": [
    "from preprocess import get_prepared_data\n",
    "import numpy as np\n",
    "import pandas as pd\n",
    "import matplotlib.pyplot as plt\n",
    "import seaborn as sns\n",
    "from sklearn.model_selection import train_test_split\n",
    "from sklearn.preprocessing import StandardScaler\n",
    "from sklearn.metrics import accuracy_score, precision_score, recall_score, confusion_matrix, classification_report\n",
    "from fastdtw import fastdtw\n",
    "from scipy.spatial.distance import euclidean"
   ]
  },
  {
   "cell_type": "code",
   "execution_count": 12,
   "metadata": {},
   "outputs": [],
   "source": [
    "# Load preprocessed, prepared data with original labels\n",
    "# We want to divide the data into original 5 classes\n",
    "# And change the shape to (n_samples, 178, 1) because DTW requires 3-dimensional vectors\n",
    "X, y = get_prepared_data(oversample=False, relabel=False)\n",
    "X = X.reshape(X.shape[0], X.shape[1], 1)\n",
    "\n",
    "X_train, X_test, y_train, y_test = train_test_split(X, y, test_size=0.2, random_state=42, stratify=y)\n"
   ]
  },
  {
   "cell_type": "code",
   "execution_count": 13,
   "metadata": {},
   "outputs": [],
   "source": [
    "\"\"\"\n",
    "This class implements a classifier based on Shapelets, which are subsequences \n",
    "of time series data with distinctive patterns.\n",
    "\n",
    "The purpose of the classifier is to identify these subsequences that best represent\n",
    " patterns characteristic of different classes in the dataset.\n",
    "\"\"\"\n",
    "\n",
    "class ImprovedShapeletClassifier:\n",
    "\n",
    "    # Initialize Shapelet classifier\n",
    "    def __init__(self, n_shapelets=10, shapelet_lengths=None):\n",
    "        self.n_shapelets = n_shapelets       #  number of shapelets\n",
    "        self.shapelet_lengths = shapelet_lengths if shapelet_lengths else [10, 20, 30]\n",
    "        self.shapelets = None                #  here we store the selected shapelets\n",
    "        self.shapelet_labels = None          #  labels assigned to each shapelet\n",
    "        self.classes_ = None                 #  unique class labels\n",
    "\n",
    "    def _extract_random_shapelets(self, X, y, lengths):\n",
    "        shapelets = []\n",
    "        shapelet_labels = []\n",
    "        for length in lengths:\n",
    "            for _ in range(self.n_shapelets // len(lengths)):\n",
    "                series_idx = np.random.randint(0, X.shape[0])\n",
    "                start_idx = np.random.randint(0, X.shape[1] - length)\n",
    "                \n",
    "                # extract subsequence (shapelet)\n",
    "                shapelet = X[series_idx, start_idx:start_idx + length, :]\n",
    "                shapelets.append(shapelet)\n",
    "                shapelet_labels.append(y[series_idx])\n",
    "        \n",
    "        # keep the shapelets as lists because they have different lengths\n",
    "        return shapelets, shapelet_labels\n",
    "    \n",
    "    def fit(self, X, y):\n",
    "        np.random.seed(42)\n",
    "        self.classes_ = np.unique(y)\n",
    "        \n",
    "        # Extract random shapelets\n",
    "        self.shapelets, self.shapelet_labels = self._extract_random_shapelets(X, y, self.shapelet_lengths)\n",
    "\n",
    "\n",
    "    # Train the classifier by choosing shapelets and assigning classes to them\n",
    "    # X with shape (n_samples, series_length, 1)\n",
    "    def fit2(self, X, y):\n",
    "        np.random.seed(42)\n",
    "        self.classes_ = np.unique(y)\n",
    "        n_samples, series_length, _ = X.shape\n",
    "        \n",
    "        # randomly select shapelets\n",
    "        shapelet_indices = np.random.choice(n_samples, self.n_shapelets, replace=False)\n",
    "        self.shapelets = X[shapelet_indices]\n",
    "        \n",
    "        # assign labels to shapelets based on nearest samples\n",
    "        self.shapelet_labels = y[shapelet_indices]\n",
    "\n",
    "    \n",
    "    '''\n",
    "    # Compute the Euclidean distance between the time series sample X shape and the Shapelet (with shape (series_length, 1))\n",
    "    def _distance_to_shapelet(self, X, shapelet):\n",
    "        distances = np.sqrt(np.sum((X - shapelet) ** 2, axis=1))\n",
    "        return np.min(distances)\n",
    "    '''\n",
    "    \n",
    "    # Compute the Euclidean distance between the time series sample X shape and the Shapelet (with shape (series_length, 1))\n",
    "    def _distance_to_shapelet(self, X, shapelet):\n",
    "        shapelet_length = len(shapelet)\n",
    "        distances = []\n",
    "\n",
    "        # slide the shapelet over all possible subsequences of the same length in X\n",
    "        for i in range(len(X) - shapelet_length + 1):\n",
    "            subsequence = X[i:i + shapelet_length]\n",
    "            distance = np.sqrt(np.sum((subsequence - shapelet) ** 2))  # euclidean distance\n",
    "            distances.append(distance)\n",
    "\n",
    "        # return the minimum distance\n",
    "        return min(distances)\n",
    "\n",
    "\n",
    "    # Predict \n",
    "    def predict(self, X):\n",
    "        n_samples, series_length, _ = X.shape\n",
    "        predictions = []\n",
    "\n",
    "        # compute the distance of each sample to each Shapelet\n",
    "        for sample in X:\n",
    "            distances = [self._distance_to_shapelet(sample, shapelet) for shapelet in self.shapelets]\n",
    "            \n",
    "            # Find the shapelet with minimum distance and assign it as a predicted label for the sample\n",
    "            closest_shapelet_idx = np.argmin(distances)\n",
    "            predictions.append(self.shapelet_labels[closest_shapelet_idx])\n",
    " \n",
    "        return np.array(predictions)\n"
   ]
  },
  {
   "cell_type": "code",
   "execution_count": 14,
   "metadata": {},
   "outputs": [],
   "source": [
    "# I tested [10, 20, 30], [15, 25, 50], [20, 30, 60], [20; 40; 60; 80], [40, 60, 80], [42, 69, 100]\n",
    "# and for n_shapelets: 50, 69 (32,8%), 100 (33,59%), 200 (35,79%)\n",
    "shapelet_clf = ImprovedShapeletClassifier(n_shapelets=200, shapelet_lengths=[40, 60, 80])\n",
    "\n",
    "# Training classifier\n",
    "shapelet_clf.fit(X_train, y_train)\n",
    "\n",
    "# Prediction\n",
    "y_pred = shapelet_clf.predict(X_test)\n",
    "\n"
   ]
  },
  {
   "cell_type": "code",
   "execution_count": 17,
   "metadata": {},
   "outputs": [
    {
     "name": "stdout",
     "output_type": "stream",
     "text": [
      "Accuracy: 0.35792709705753184\n",
      "Precision: 0.48092219929576463\n",
      "Recall: 0.35792709705753184\n",
      "\n",
      "Classification Report:\n",
      "               precision    recall  f1-score   support\n",
      "\n",
      "           1       1.00      0.39      0.56       456\n",
      "           2       0.26      0.40      0.32       455\n",
      "           3       0.27      0.45      0.34       455\n",
      "           4       0.54      0.21      0.31       456\n",
      "           5       0.33      0.33      0.33       455\n",
      "\n",
      "    accuracy                           0.36      2277\n",
      "   macro avg       0.48      0.36      0.37      2277\n",
      "weighted avg       0.48      0.36      0.37      2277\n",
      "\n",
      "\n",
      "[[178  83 122  46  27]\n",
      " [  0 184 195   9  67]\n",
      " [  0 177 203   5  70]\n",
      " [  0 105 104  98 149]\n",
      " [  0 161 120  22 152]]\n"
     ]
    },
    {
     "data": {
      "image/png": "[encoded data removed]",
      "text/plain": [
       "<Figure size 800x600 with 2 Axes>"
      ]
     },
     "metadata": {},
     "output_type": "display_data"
    }
   ],
   "source": [
    "# Evaluation of the results\n",
    "accuracy = accuracy_score(y_test, y_pred)\n",
    "precision = precision_score(y_test, y_pred, average='weighted')\n",
    "recall = recall_score(y_test, y_pred, average='weighted')\n",
    "conf_matrix = confusion_matrix(y_test, y_pred)\n",
    "\n",
    "print(\"Accuracy:\", accuracy)\n",
    "print(\"Precision:\", precision)\n",
    "print(\"Recall:\", recall)\n",
    "print(\"\\nClassification Report:\\n\", classification_report(y_test, y_pred))\n",
    "print()\n",
    "print(conf_matrix)\n",
    "\n",
    "plt.figure(figsize=(8, 6))\n",
    "sns.heatmap(conf_matrix, annot=True, fmt='d', cmap='Blues', xticklabels=shapelet_clf.classes_, yticklabels=shapelet_clf.classes_)\n",
    "plt.xlabel(\"Predicted Label\")\n",
    "plt.ylabel(\"True Label\")\n",
    "plt.title(\"Confusion Matrix\")\n",
    "plt.show()\n"
   ]
  }
 ],
 "metadata": {
  "kernelspec": {
   "display_name": "venv",
   "language": "python",
   "name": "python3"
  },
  "language_info": {
   "codemirror_mode": {
    "name": "ipython",
    "version": 3
   },
   "file_extension": ".py",
   "mimetype": "text/x-python",
   "name": "python",
   "nbconvert_exporter": "python",
   "pygments_lexer": "ipython3",
   "version": "3.12.7"
  }
 },
 "nbformat": 4,
 "nbformat_minor": 2
}
