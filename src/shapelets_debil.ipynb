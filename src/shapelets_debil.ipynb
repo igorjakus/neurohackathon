{
 "cells": [
  {
   "cell_type": "code",
   "execution_count": 37,
   "metadata": {},
   "outputs": [],
   "source": [
    "from preprocess import get_prepared_data\n",
    "import numpy as np\n",
    "import pandas as pd\n",
    "import matplotlib.pyplot as plt\n",
    "import seaborn as sns\n",
    "from sklearn.model_selection import train_test_split\n",
    "from sklearn.preprocessing import StandardScaler\n",
    "from sklearn.metrics import accuracy_score, precision_score, recall_score, confusion_matrix, classification_report"
   ]
  },
  {
   "cell_type": "code",
   "execution_count": null,
   "metadata": {},
   "outputs": [],
   "source": [
    "# Load preprocessed, prepared data with original labels\n",
    "# We want to divide the data into original 5 classes\n",
    "# And change the shape to (n_samples, 178, 1) because DTW requires 3-dimensional vectors\n",
    "X, y = get_prepared_data(oversample=False, relabel=False)\n",
    "X = X.reshape(X.shape[0], X.shape[1], 1)\n",
    "\n",
    "X_train, X_test, y_train, y_test = train_test_split(X, y, test_size=0.2, random_state=42, stratify=y)\n"
   ]
  },
  {
   "cell_type": "code",
   "execution_count": 41,
   "metadata": {},
   "outputs": [],
   "source": [
    "\"\"\"\n",
    "This class implements a classifier based on Shapelets, which are subsequences \n",
    "of time series data with distinctive patterns.\n",
    "\n",
    "The purpose of the classifier is to identify these subsequences that best represent\n",
    " patterns characteristic of different classes in the dataset.\n",
    "\"\"\"\n",
    "\n",
    "class ImprovedShapeletClassifier:\n",
    "\n",
    "    # Initialize Shapelet classifier\n",
    "    def __init__(self, n_shapelets=10):\n",
    "        self.n_shapelets = n_shapelets       #  number of shapelets\n",
    "        self.shapelets = None                #  here we store the selected shapelets\n",
    "        self.shapelet_labels = None          #  labels assigned to each shapelet\n",
    "        self.classes_ = None                 #  unique class labels\n",
    "\n",
    "    # Train the classifier by choosing shapelets and assigning classes to them\n",
    "    # X with shape (n_samples, series_length, 1)\n",
    "    def fit(self, X, y):\n",
    "        np.random.seed(42)\n",
    "        self.classes_ = np.unique(y)\n",
    "        n_samples, series_length, _ = X.shape\n",
    "        \n",
    "        # randomly select shapelets\n",
    "        shapelet_indices = np.random.choice(n_samples, self.n_shapelets, replace=False)\n",
    "        self.shapelets = X[shapelet_indices]\n",
    "        \n",
    "        # assign labels to shapelets based on nearest samples\n",
    "        self.shapelet_labels = y[shapelet_indices]\n",
    "\n",
    "    # Compute the Euclidean distance between the time series sample X shape and the Shapelet (with shape (series_length, 1))\n",
    "    def _distance_to_shapelet(self, X, shapelet):\n",
    "        distances = np.sqrt(np.sum((X - shapelet) ** 2, axis=1))\n",
    "        return np.min(distances)\n",
    "\n",
    "    # Predict \n",
    "    def predict(self, X):\n",
    "        \"\"\"\n",
    "        Dokonuje predykcji na podstawie dopasowania Shapeletów.\n",
    "        \n",
    "        :param X: Dane testowe w kształcie (n_samples, series_length, 1).\n",
    "        :return: Predykcje w kształcie (n_samples,).\n",
    "        \"\"\"\n",
    "        n_samples, series_length, _ = X.shape\n",
    "        predictions = []\n",
    "\n",
    "        # compute the distance of each sample to each Shapelet\n",
    "        for sample in X:\n",
    "            distances = [self._distance_to_shapelet(sample, shapelet) for shapelet in self.shapelets]\n",
    "            \n",
    "            # Find the shapelet with minimum distance and assign it as a predicted label for the sample\n",
    "            closest_shapelet_idx = np.argmin(distances)\n",
    "            predictions.append(self.shapelet_labels[closest_shapelet_idx])\n",
    "\n",
    "        return np.array(predictions)\n"
   ]
  },
  {
   "cell_type": "code",
   "execution_count": 43,
   "metadata": {},
   "outputs": [],
   "source": [
    "shapelet_clf = ImprovedShapeletClassifier(n_shapelets=50)\n",
    "\n",
    "# Training classifier\n",
    "shapelet_clf.fit(X_train, y_train)\n",
    "\n",
    "# Prediction\n",
    "y_pred = shapelet_clf.predict(X_test)\n",
    "\n"
   ]
  },
  {
   "cell_type": "code",
   "execution_count": null,
   "metadata": {},
   "outputs": [],
   "source": [
    "# Evaluation of the results\n",
    "accuracy = accuracy_score(y_test, y_pred)\n",
    "precision = precision_score(y_test, y_pred, average='weighted')\n",
    "recall = recall_score(y_test, y_pred, average='weighted')\n",
    "conf_matrix = confusion_matrix(y_test, y_pred)\n",
    "\n",
    "print(\"Accuracy:\", accuracy)\n",
    "print(\"Precision:\", precision)\n",
    "print(\"Recall:\", recall)\n",
    "print(\"\\nClassification Report:\\n\", classification_report(y_test, y_pred))\n",
    "print()\n",
    "print(conf_matrix)\n",
    "\n",
    "plt.figure(figsize=(8, 6))\n",
    "sns.heatmap(conf_matrix, annot=True, fmt='d', cmap='Blues', xticklabels=shapelet_clf.classes_, yticklabels=shapelet_clf.classes_)\n",
    "plt.xlabel(\"Predicted Label\")\n",
    "plt.ylabel(\"True Label\")\n",
    "plt.title(\"Confusion Matrix\")\n",
    "plt.show()\n"
   ]
  }
 ],
 "metadata": {
  "kernelspec": {
   "display_name": "venv",
   "language": "python",
   "name": "python3"
  },
  "language_info": {
   "codemirror_mode": {
    "name": "ipython",
    "version": 3
   },
   "file_extension": ".py",
   "mimetype": "text/x-python",
   "name": "python",
   "nbconvert_exporter": "python",
   "pygments_lexer": "ipython3",
   "version": "3.12.7"
  }
 },
 "nbformat": 4,
 "nbformat_minor": 2
}
