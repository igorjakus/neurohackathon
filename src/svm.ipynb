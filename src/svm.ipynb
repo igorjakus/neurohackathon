{
 "cells": [
  {
   "cell_type": "code",
   "execution_count": 1,
   "metadata": {},
   "outputs": [],
   "source": [
    "# Import necessary libraries\n",
    "from preprocess import get_data\n",
    "import pickle\n",
    "import numpy as np\n",
    "from sklearn.model_selection import train_test_split\n",
    "from sklearn.svm import SVC\n",
    "from sklearn.preprocessing import StandardScaler\n",
    "from sklearn.metrics import accuracy_score"
   ]
  },
  {
   "cell_type": "code",
   "execution_count": 2,
   "metadata": {},
   "outputs": [],
   "source": [
    "# Load and preprocess data\n",
    "data = get_data()"
   ]
  },
  {
   "cell_type": "code",
   "execution_count": 3,
   "metadata": {},
   "outputs": [
    {
     "data": {
      "text/plain": [
       "array([[ -56.,  -50.,  -64., ...,  -84.,  -91.,  -96.],\n",
       "       [ -91.,  -78.,  -75., ...,  -17.,  -27.,  -42.],\n",
       "       [ -61.,  -59.,  -46., ..., -120., -111., -118.],\n",
       "       ...,\n",
       "       [ 411.,  422.,  401., ...,  136.,  102.,   87.],\n",
       "       [  53.,   -8.,  -55., ...,  293.,  239.,  180.],\n",
       "       [  93.,   24.,  -51., ..., -231., -272., -272.]], dtype=float32)"
      ]
     },
     "execution_count": 3,
     "metadata": {},
     "output_type": "execute_result"
    }
   ],
   "source": [
    "# Extract features\n",
    "X = data[\"values\"]\n",
    "X"
   ]
  },
  {
   "cell_type": "code",
   "execution_count": 4,
   "metadata": {},
   "outputs": [
    {
     "data": {
      "text/plain": [
       "array([0, 0, 0, ..., 1, 1, 1], dtype=int32)"
      ]
     },
     "execution_count": 4,
     "metadata": {},
     "output_type": "execute_result"
    }
   ],
   "source": [
    "# Function to rename labels\n",
    "def rename_labels(labels: np.array) -> np.array:\n",
    "    transformed_labels = np.zeros_like(labels)\n",
    "    \n",
    "    # Apply the transformation logic\n",
    "    transformed_labels[(labels == 1) | (labels == 2) | (labels == 3)] = 1  # seizure or risk\n",
    "    return transformed_labels # (labels == 4) | (labels == 5)                without risk\n",
    "\n",
    "# Extract and transform labels\n",
    "Y = rename_labels(data[\"labels\"])\n",
    "Y"
   ]
  },
  {
   "cell_type": "code",
   "execution_count": 5,
   "metadata": {},
   "outputs": [],
   "source": [
    "# Split for train and test data\n",
    "X_train, X_test, y_train, y_test = train_test_split(X, Y, test_size=0.1, random_state=42)\n",
    "\n",
    "# Scale and normalize data\n",
    "scaler =  StandardScaler()\n",
    "X_train_scaled = scaler.fit_transform(X_train)\n",
    "X_test_scaled  = scaler.transform(X_test)"
   ]
  },
  {
   "cell_type": "code",
   "execution_count": 8,
   "metadata": {},
   "outputs": [
    {
     "data": {
      "text/plain": [
       "0.8928884986830553"
      ]
     },
     "execution_count": 8,
     "metadata": {},
     "output_type": "execute_result"
    }
   ],
   "source": [
    "# Train SVM model\n",
    "svm_model = SVC(kernel='rbf', C=69)\n",
    "svm_model.fit(X_train_scaled, y_train)\n",
    "\n",
    "# Predict and evaluate\n",
    "y_pred = svm_model.predict(X_test_scaled)\n",
    "accuracy = accuracy_score(y_test, y_pred)\n",
    "accuracy"
   ]
  },
  {
   "cell_type": "markdown",
   "metadata": {},
   "source": []
  },
  {
   "cell_type": "code",
   "execution_count": 13,
   "metadata": {},
   "outputs": [],
   "source": [
    "# Save the trained model and scaler\n",
    "def save_model():\n",
    "    with open('../trained/svm_model.pkl', 'wb') as file:\n",
    "        pickle.dump(svm_model, file)\n",
    "\n",
    "    with open(\"../trained/scaler.pkl\", \"wb\") as file:\n",
    "        pickle.dump(scaler, file)\n",
    "\n",
    "save_model()"
   ]
  }
 ],
 "metadata": {
  "kernelspec": {
   "display_name": "venv",
   "language": "python",
   "name": "python3"
  },
  "language_info": {
   "codemirror_mode": {
    "name": "ipython",
    "version": 3
   },
   "file_extension": ".py",
   "mimetype": "text/x-python",
   "name": "python",
   "nbconvert_exporter": "python",
   "pygments_lexer": "ipython3",
   "version": "3.12.4"
  }
 },
 "nbformat": 4,
 "nbformat_minor": 2
}
