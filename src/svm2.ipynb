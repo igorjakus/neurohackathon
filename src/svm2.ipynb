{
 "cells": [
  {
   "cell_type": "code",
   "execution_count": null,
   "metadata": {},
   "outputs": [],
   "source": [
    "from preprocess import get_data\n",
    "\n",
    "import pickle\n",
    "import numpy as np\n",
    "from sklearn.model_selection import train_test_split\n",
    "from sklearn.svm import SVC\n",
    "from sklearn.preprocessing import StandardScaler\n",
    "from sklearn.metrics import accuracy_score"
   ]
  },
  {
   "cell_type": "code",
   "execution_count": 2,
   "metadata": {},
   "outputs": [],
   "source": [
    "data = get_data()"
   ]
  },
  {
   "cell_type": "code",
   "execution_count": 3,
   "metadata": {},
   "outputs": [
    {
     "data": {
      "text/plain": [
       "array([[ -56.,  -50.,  -64., ...,  -84.,  -91.,  -96.],\n",
       "       [ -91.,  -78.,  -75., ...,  -17.,  -27.,  -42.],\n",
       "       [ -61.,  -59.,  -46., ..., -120., -111., -118.],\n",
       "       ...,\n",
       "       [ 411.,  422.,  401., ...,  136.,  102.,   87.],\n",
       "       [  53.,   -8.,  -55., ...,  293.,  239.,  180.],\n",
       "       [  93.,   24.,  -51., ..., -231., -272., -272.]], dtype=float32)"
      ]
     },
     "execution_count": 3,
     "metadata": {},
     "output_type": "execute_result"
    }
   ],
   "source": [
    "X = data[\"values\"]\n",
    "X"
   ]
  },
  {
   "cell_type": "code",
   "execution_count": 4,
   "metadata": {},
   "outputs": [
    {
     "data": {
      "text/plain": [
       "array([0, 0, 0, ..., 2, 2, 2], dtype=int32)"
      ]
     },
     "execution_count": 4,
     "metadata": {},
     "output_type": "execute_result"
    }
   ],
   "source": [
    "def rename_labels(labels: np.array) -> np.array:\n",
    "    transformed_labels = np.zeros_like(labels)\n",
    "    \n",
    "    # Apply the transformation logic\n",
    "    transformed_labels[labels == 1] = 2  # seizure\n",
    "    transformed_labels[(labels == 2) | (labels == 3)] = 1  # risk\n",
    "    return transformed_labels # other without risk\n",
    "\n",
    "Y = rename_labels(data[\"labels\"])\n",
    "Y"
   ]
  },
  {
   "cell_type": "code",
   "execution_count": 5,
   "metadata": {},
   "outputs": [],
   "source": [
    "# Split for train and test data\n",
    "X_train, X_test, y_train, y_test = train_test_split(X, Y, test_size=0.1, random_state=42)\n",
    "\n",
    "# Scale and normalize data\n",
    "scaler =  StandardScaler()\n",
    "X_train_scaled = scaler.fit_transform(X_train)\n",
    "X_test_scaled =  scaler.transform(X_test)"
   ]
  },
  {
   "cell_type": "code",
   "execution_count": 6,
   "metadata": {},
   "outputs": [
    {
     "data": {
      "text/plain": [
       "0.8999122036874452"
      ]
     },
     "execution_count": 6,
     "metadata": {},
     "output_type": "execute_result"
    }
   ],
   "source": [
    "svm_model = SVC(kernel='rbf', C=69)\n",
    "svm_model.fit(X_train_scaled, y_train)\n",
    "\n",
    "y_pred = svm_model.predict(X_test_scaled)\n",
    "accuracy = accuracy_score(y_test, y_pred)\n",
    "accuracy"
   ]
  },
  {
   "cell_type": "markdown",
   "metadata": {},
   "source": []
  },
  {
   "cell_type": "code",
   "execution_count": null,
   "metadata": {},
   "outputs": [
    {
     "name": "stdout",
     "output_type": "stream",
     "text": [
      "Fitting 5 folds for each of 16 candidates, totalling 80 fits\n",
      "[CV] END ......................C=0.1, gamma=1, kernel=linear; total time=   8.4s\n",
      "[CV] END ......................C=0.1, gamma=1, kernel=linear; total time=   7.9s\n",
      "[CV] END ......................C=0.1, gamma=1, kernel=linear; total time=   8.1s\n",
      "[CV] END ......................C=0.1, gamma=1, kernel=linear; total time=   8.3s\n",
      "[CV] END ......................C=0.1, gamma=1, kernel=linear; total time=   7.9s\n",
      "[CV] END ....................C=0.1, gamma=0.1, kernel=linear; total time=   8.2s\n",
      "[CV] END ....................C=0.1, gamma=0.1, kernel=linear; total time=   7.7s\n",
      "[CV] END ....................C=0.1, gamma=0.1, kernel=linear; total time=   7.7s\n",
      "[CV] END ....................C=0.1, gamma=0.1, kernel=linear; total time=   7.6s\n",
      "[CV] END ....................C=0.1, gamma=0.1, kernel=linear; total time=   7.7s\n",
      "[CV] END ...................C=0.1, gamma=0.01, kernel=linear; total time=   7.8s\n",
      "[CV] END ...................C=0.1, gamma=0.01, kernel=linear; total time=   7.7s\n",
      "[CV] END ...................C=0.1, gamma=0.01, kernel=linear; total time=   7.7s\n",
      "[CV] END ...................C=0.1, gamma=0.01, kernel=linear; total time=   7.7s\n",
      "[CV] END ...................C=0.1, gamma=0.01, kernel=linear; total time=   7.7s\n",
      "[CV] END ..................C=0.1, gamma=0.001, kernel=linear; total time=   7.8s\n",
      "[CV] END ..................C=0.1, gamma=0.001, kernel=linear; total time=   7.7s\n",
      "[CV] END ..................C=0.1, gamma=0.001, kernel=linear; total time=   7.7s\n",
      "[CV] END ..................C=0.1, gamma=0.001, kernel=linear; total time=   7.6s\n",
      "[CV] END ..................C=0.1, gamma=0.001, kernel=linear; total time=   7.7s\n",
      "[CV] END ........................C=1, gamma=1, kernel=linear; total time=  28.0s\n",
      "[CV] END ........................C=1, gamma=1, kernel=linear; total time=  25.9s\n",
      "[CV] END ........................C=1, gamma=1, kernel=linear; total time=  28.1s\n",
      "[CV] END ........................C=1, gamma=1, kernel=linear; total time=  27.4s\n",
      "[CV] END ........................C=1, gamma=1, kernel=linear; total time=  28.3s\n",
      "[CV] END ......................C=1, gamma=0.1, kernel=linear; total time=  28.2s\n",
      "[CV] END ......................C=1, gamma=0.1, kernel=linear; total time=  26.3s\n",
      "[CV] END ......................C=1, gamma=0.1, kernel=linear; total time=  28.2s\n",
      "[CV] END ......................C=1, gamma=0.1, kernel=linear; total time=  26.8s\n",
      "[CV] END ......................C=1, gamma=0.1, kernel=linear; total time=  28.2s\n",
      "[CV] END .....................C=1, gamma=0.01, kernel=linear; total time=  28.4s\n",
      "[CV] END .....................C=1, gamma=0.01, kernel=linear; total time=  26.3s\n",
      "[CV] END .....................C=1, gamma=0.01, kernel=linear; total time=  28.2s\n",
      "[CV] END .....................C=1, gamma=0.01, kernel=linear; total time=  26.8s\n",
      "[CV] END .....................C=1, gamma=0.01, kernel=linear; total time=  28.4s\n",
      "[CV] END ....................C=1, gamma=0.001, kernel=linear; total time=  28.5s\n",
      "[CV] END ....................C=1, gamma=0.001, kernel=linear; total time=  26.3s\n",
      "[CV] END ....................C=1, gamma=0.001, kernel=linear; total time=  28.4s\n",
      "[CV] END ....................C=1, gamma=0.001, kernel=linear; total time=  26.9s\n",
      "[CV] END ....................C=1, gamma=0.001, kernel=linear; total time=  29.0s\n",
      "[CV] END .......................C=10, gamma=1, kernel=linear; total time= 3.9min\n",
      "[CV] END .......................C=10, gamma=1, kernel=linear; total time= 3.8min\n",
      "[CV] END .......................C=10, gamma=1, kernel=linear; total time= 4.1min\n",
      "[CV] END .......................C=10, gamma=1, kernel=linear; total time= 3.6min\n",
      "[CV] END .......................C=10, gamma=1, kernel=linear; total time= 4.1min\n",
      "[CV] END .....................C=10, gamma=0.1, kernel=linear; total time= 4.0min\n",
      "[CV] END .....................C=10, gamma=0.1, kernel=linear; total time= 3.9min\n",
      "[CV] END .....................C=10, gamma=0.1, kernel=linear; total time= 4.3min\n"
     ]
    }
   ],
   "source": [
    "from sklearn.model_selection import GridSearchCV\n",
    "\n",
    "param_grid = {\n",
    "    'C': [0.1, 1, 10, 100],\n",
    "    'gamma': [1, 0.1, 0.01, 0.001],\n",
    "    # 'kernel': ['rbf', 'poly', 'linear']\n",
    "    # 'kernel': ['rbf']\n",
    "    'kernel': ['linear']\n",
    "}\n",
    "\n",
    "grid = GridSearchCV(SVC(), param_grid, refit=True, verbose=2)\n",
    "grid.fit(X_train_scaled, y_train)\n",
    "\n",
    "best_model = grid.best_estimator_\n",
    "print(grid.best_params_)"
   ]
  },
  {
   "cell_type": "code",
   "execution_count": 10,
   "metadata": {},
   "outputs": [
    {
     "data": {
      "text/plain": [
       "0.897278314310799"
      ]
     },
     "execution_count": 10,
     "metadata": {},
     "output_type": "execute_result"
    }
   ],
   "source": [
    "svm_model = SVC(kernel='rbf', C=100, gamma=0.01)\n",
    "svm_model.fit(X_train_scaled, y_train)\n",
    "\n",
    "y_pred = svm_model.predict(X_test_scaled)\n",
    "accuracy = accuracy_score(y_test, y_pred)\n",
    "accuracy"
   ]
  },
  {
   "cell_type": "code",
   "execution_count": null,
   "metadata": {},
   "outputs": [],
   "source": [
    "def load_model():\n",
    "    with open('svm_model.pkl', 'rb') as file:\n",
    "        return pickle.load(file)"
   ]
  },
  {
   "cell_type": "code",
   "execution_count": null,
   "metadata": {},
   "outputs": [],
   "source": [
    "def save_model():\n",
    "    with open('svm_model.pkl', 'wb') as file:\n",
    "        pickle.dump(svm_model, file)"
   ]
  },
  {
   "cell_type": "code",
   "execution_count": null,
   "metadata": {},
   "outputs": [],
   "source": [
    "def predict(eeg_data: np.array) -> int:\n",
    "    return svm_model.predict(eeg_data)"
   ]
  }
 ],
 "metadata": {
  "kernelspec": {
   "display_name": "venv",
   "language": "python",
   "name": "python3"
  },
  "language_info": {
   "codemirror_mode": {
    "name": "ipython",
    "version": 3
   },
   "file_extension": ".py",
   "mimetype": "text/x-python",
   "name": "python",
   "nbconvert_exporter": "python",
   "pygments_lexer": "ipython3",
   "version": "3.12.4"
  }
 },
 "nbformat": 4,
 "nbformat_minor": 2
}
